{
 "cells": [
  {
   "cell_type": "markdown",
   "id": "4aedea4b",
   "metadata": {},
   "source": [
    "# 2. Pandas\n",
    "\n",
    "In this exercise, we will be looking at pandas, a Python library that provides many useful tools for loading, displaying, and cleaning data. Please have a look at the [official Pandas documentation](https://pandas.pydata.org/docs/reference/index.html) to learn more about any of the functions you encouter in this notebook.\n",
    "\n",
    "To aid us in showing off the functionality of this library, we will be looking at the MetObjects dataset, which comes courtesy of the [Metropolitan Museum of Art in New York](https://www.metmuseum.org/). \n",
    "\n"
   ]
  },
  {
   "cell_type": "markdown",
   "id": "e08bba43",
   "metadata": {},
   "source": [
    "## 2.1 Downloading the dataset\n",
    "You can use a leading `!` in a line of Jupyter notebook code to specify that the rest of the line should be interpreted as a shell command. This is convenient for modifying files or running scripts that live on your filesystem without having to switch between the browser and terminal. Let's use this syntax to create a directory for the Met Museum dataset"
   ]
  },
  {
   "cell_type": "code",
   "execution_count": null,
   "id": "2ab33955",
   "metadata": {},
   "outputs": [],
   "source": [
    "data_dir = \"./data/metmuseum\"   # Normal python code\n",
    "\n",
    "\n",
    "# Jupyter notebook \"magic\" lines prepended with a ! character\n",
    "!mkdir -p $data_dir"
   ]
  },
  {
   "cell_type": "markdown",
   "id": "748e67be",
   "metadata": {},
   "source": [
    "Now download the CSV file from the Week 2 folder on Brightspace and place it into the directory you have just created. Once that's done, we can define a string that points to our CSV file:"
   ]
  },
  {
   "cell_type": "code",
   "execution_count": null,
   "id": "b18bafe9",
   "metadata": {},
   "outputs": [],
   "source": [
    "# Path to dataset CSV\n",
    "MET_DATA_CSV = f\"{data_dir}/MetObjects.csv\""
   ]
  },
  {
   "cell_type": "code",
   "execution_count": null,
   "id": "8c44439d",
   "metadata": {
    "scrolled": false
   },
   "outputs": [],
   "source": [
    "# Module imports and plot settings\n",
    "import pandas as pd\n",
    "import matplotlib.pyplot as plt\n",
    "\n",
    "\n",
    "pd.set_option('display.max_rows', 20)\n",
    "pd.set_option('display.max_columns', 500)\n",
    "pd.set_option('display.width', 1000)\n",
    "pd.options.mode.chained_assignment = None \n",
    "plt.rcParams[\"figure.figsize\"] = [8, 7]\n",
    "plt.rcParams[\"figure.autolayout\"] = True\n",
    "\n",
    "\n",
    "\n",
    "\n"
   ]
  },
  {
   "cell_type": "markdown",
   "id": "a7bf7aa6",
   "metadata": {},
   "source": [
    "## 2.2 The DataFrame\n",
    "\n",
    "The DataFrame is the central data structure provided by Pandas, and it is this structure that we need to interrogate when we want to ask questions about our data. You can think of a DataFrame as a table with rows of records and columns that describe the fields of those records. Pandas provides built in functions for loading text files and automatically puts their contents into a DataFrame. The dataset we just downloaded (`MetObjects.csv`) is a CSV (comma separated value) file, so we need to use the `load_csv` function provided by Pandas."
   ]
  },
  {
   "cell_type": "code",
   "execution_count": null,
   "id": "7bf93f1c",
   "metadata": {},
   "outputs": [],
   "source": [
    "# Loading the dataset into a DataFrame\n",
    "# The `sep` argument is the delimiter character, which \n",
    "# tells pandas how to separate columns. Be careful: always inspect your CSV \n",
    "# files to check what the delimiter character is: sometimes people use\n",
    "# tabs (\\t). Make a note of what the delimiter is and pass it into \n",
    "# read_csv. In this case, the separator is a comma (,) so that's what \n",
    "# we'll use.\n",
    "dataset = pd.read_csv(MET_DATA_CSV, sep=',') \n",
    "dataset  # <- this is a Pandas DataFrame"
   ]
  },
  {
   "cell_type": "markdown",
   "id": "1741d297",
   "metadata": {},
   "source": [
    "## 2.3 Accessing and displaying data\n",
    "\n",
    "### 2.3.1 Integer indexing\n",
    "Similar to Python list slices, uses 0-indexed start and end positions to return a subset of the dataframe. With a Padas dataframe, this is done via the `iloc` indexer."
   ]
  },
  {
   "cell_type": "code",
   "execution_count": null,
   "id": "35516445",
   "metadata": {},
   "outputs": [],
   "source": [
    "# Get rows number 29 to 35\n",
    "int_indexing = dataset.iloc[29 : 35]\n",
    "int_indexing"
   ]
  },
  {
   "cell_type": "markdown",
   "id": "9f66c26f",
   "metadata": {},
   "source": [
    "### 2.3.2 Boolean Series\n",
    "A series is a 1-D array - a boolean series is one that is filled with boolean (i.e., `True` or `False`) values. We can pass boolean series into a Dataframe's `loc` indexer to keep only the values that align with `True`. Different boolean series of the same length can be combined using the following logical operators: `&` (and), `|` (or), `~` (not)."
   ]
  },
  {
   "cell_type": "code",
   "execution_count": null,
   "id": "1037891a",
   "metadata": {},
   "outputs": [],
   "source": [
    "# getting all rows from the 'Medieval Art' department\n",
    "medieval_art_bool_series = dataset['Department'] == \"Medieval Art\"\n",
    "dataset.loc[medieval_art_bool_series]"
   ]
  },
  {
   "cell_type": "code",
   "execution_count": null,
   "id": "61cb64e5",
   "metadata": {},
   "outputs": [],
   "source": [
    "# getting rows from the 'Medieval Art' OR 'European Sculpture and Decorative Arts' departments\n",
    "esada_bool_series = dataset['Department'] == \"European Sculpture and Decorative Arts\"\n",
    "both = esada_bool_series | medieval_art_bool_series\n",
    "dataset.loc[both]"
   ]
  },
  {
   "cell_type": "markdown",
   "id": "7863274b",
   "metadata": {},
   "source": [
    "### 2.3.3 Grouping by column name(s)\n",
    "We can also group the data by a list of columns. This returns a Pandas GroupBy object, which contains a dictionary of mappings from each group name to a Series of its elements"
   ]
  },
  {
   "cell_type": "code",
   "execution_count": null,
   "id": "db1c0e48",
   "metadata": {},
   "outputs": [],
   "source": [
    "g = dataset.groupby(['Object Name', 'Culture'])\n",
    "g = g.size().reset_index(name='Counts')\n",
    "g"
   ]
  },
  {
   "cell_type": "markdown",
   "id": "6347da7b",
   "metadata": {},
   "source": [
    "### 2.3.4 Using `where`\n",
    "Similar to Numpy arrays, Pandas dataframes also make use of the `where` function to conditionally modify its elements based on some criteria. `where` takes a dataframe condition as an argument and returns the modified dataframe - if the condition is fulfilled, it keeps the value of the field, if not, it replaces it with `NaN`. We can use this function to remove objects that do not "
   ]
  },
  {
   "cell_type": "code",
   "execution_count": null,
   "id": "bdf8c4b6",
   "metadata": {},
   "outputs": [],
   "source": [
    "g.where(g['Counts']>1)"
   ]
  },
  {
   "cell_type": "markdown",
   "id": "68d66767",
   "metadata": {},
   "source": [
    "As you can see, most of the records are now NaN. We will look at how these types of situations can be fixed in the upcoming cells. Let's  print out the original dataset again so we can use it as a visual reference for the future:"
   ]
  },
  {
   "cell_type": "code",
   "execution_count": null,
   "id": "8ccc5456",
   "metadata": {},
   "outputs": [],
   "source": [
    "dataset"
   ]
  },
  {
   "cell_type": "markdown",
   "id": "fffb35c4",
   "metadata": {},
   "source": [
    "## 2.4 Data cleaning\n",
    "Before data can be fed into your application, it needs to be verified and checked for consistency. We can see that there are several problems with the dataset right off the bat:\n",
    "1. First row seems to contain garbage: none of the column names match up with the data types, and many are NaN\n",
    "2. It looks like many of the columns are completely empty - they add nothing to the dataset but clutter it\n",
    "3. Too many columns! This depends on what your needs are, but we don't need all of them for this exercise\n",
    "4. Inconsistent formatting in the Dimensions column - makes it difficult to use them downstream\n",
    "5. Mixed datatypes in Year fields\n",
    "\n",
    "Let's address all of these issues one by one\n",
    "\n",
    "### 2.4.1 Deleting rows by index\n",
    "We can get rid of the first row (index 0) by taking a slice of the dataframe beginning at index 1 and going all the way to the end."
   ]
  },
  {
   "cell_type": "code",
   "execution_count": null,
   "id": "e2579d55",
   "metadata": {},
   "outputs": [],
   "source": [
    "# Get rid of the first row, we can use dataframe slicing to accomplish this:\n",
    "dataset = dataset.iloc[1:]\n",
    "dataset\n"
   ]
  },
  {
   "cell_type": "markdown",
   "id": "75c2dc44",
   "metadata": {},
   "source": [
    "### 2.4.2 Removing columns\n",
    "\n",
    "Columns can be removed conditionally by checking their contents to see if they meet a certain criteria, or simply by name"
   ]
  },
  {
   "cell_type": "code",
   "execution_count": null,
   "id": "88098fab",
   "metadata": {},
   "outputs": [],
   "source": [
    "# Get rid of all columns that are completely empty\n",
    "dataset = dataset.dropna(how='all', axis=1) # how=all means drop this key if all items are NaN. Axis=1 means work on columns\n",
    "dataset\n"
   ]
  },
  {
   "cell_type": "code",
   "execution_count": null,
   "id": "cf399e22",
   "metadata": {},
   "outputs": [],
   "source": [
    "# At this point, we can also drop the columns that are irrelevant to our needs\n",
    "exclude_cols = [\n",
    "    \"Country\",\n",
    "    \"Culture\",\n",
    "    \"Is Highlight\",\n",
    "    \"Is Timeline Work\",\n",
    "    \"Object End Date\",\n",
    "    \"Gallery Number\",\n",
    "    \"Period\",\n",
    "    \"Constituent ID\",\n",
    "    \"Artist Role\",\n",
    "    \"Artist Prefix\",\n",
    "    \"Artist Display Name\",\n",
    "    \"Artist Display Bio\",\n",
    "    \"Artist Suffix\",\n",
    "    \"Artist Alpha Sort\",\n",
    "    \"Artist Gender\",\n",
    "    \"Artist Nationality\",\n",
    "    \"Artist ULAN URL\",\n",
    "    \"Artist Wikidata URL\",\n",
    "    \"Credit Line\",\n",
    "    \"Object ID\",\n",
    "    \"Geography Type\",\n",
    "    \"City\",\n",
    "    \"State\",\n",
    "    \"County\",\n",
    "    \"Region\",\n",
    "    \"Classification\",\n",
    "    \"Rights and Reproduction\",\n",
    "    \"Link Resource\",\n",
    "    \"Object Wikidata URL\",\n",
    "    \"Repository\",\n",
    "    \"Tags AAT URL\",\n",
    "    \"Tags Wikidata URL\",\n",
    "    \"Artist Begin Date\",\n",
    "    \"Artist End Date\",\n",
    "    \"Object Date\",\n",
    "]\n",
    "\n",
    "dataset = dataset.drop(exclude_cols, axis=1) # again axis=1 means we work on the columns of this dataframe\n",
    "dataset"
   ]
  },
  {
   "cell_type": "markdown",
   "id": "6ab73dee",
   "metadata": {},
   "source": [
    "### 2.4.3 Removing rows\n",
    "We can also get rid of rows that do not meet certain criteria. For example, given a subset of fields that we deem very important, we can drop all rows are NaN in any of these fields"
   ]
  },
  {
   "cell_type": "code",
   "execution_count": null,
   "id": "b7f4eb95",
   "metadata": {},
   "outputs": [],
   "source": [
    "# Dropping records (rows)\n",
    "important_cols = ['Tags', 'Dimensions', 'Object Begin Date', 'AccessionYear'] \n",
    "dataset = dataset.dropna(subset=important_cols)\n",
    "dataset\n",
    "\n",
    "# Note that doing this cut the size of our dataset in half! Compare the number of rows in the previous cell to this one."
   ]
  },
  {
   "cell_type": "markdown",
   "id": "7eaa9969",
   "metadata": {},
   "source": [
    "### 2.4.4 Applying functions to columns\n",
    "\n",
    "We noted earlier that the Dimensions field is a bit messy (inconsistent mixing of imperial and metric units).  We need it to have consistent formatting so that any functions we write later can work with the values without any complicated processing.  \n",
    "\n",
    "Doing the complicated work up front saves a lot of time down the line! Don't worry too much about how exactly this function works**\\*\\***. This is just to show that we can write arbitrarily complex cleaning functions and apply it to a Dataframe's columns. The important thing to note about this function is that if it can't find a suitable dimension to extract for whatever reason, **it will fail, and on failure will return NaN** (not a number).  \n",
    "\n",
    "When this function is applied to the Dimensions column, the column will be left with values that look like:\n",
    "1. a OR\n",
    "2. a, b OR\n",
    "3. a, b, c OR\n",
    "4. NaN\n",
    "\n",
    "where a, b and c are lengths in centimetres and NaN is an indication that the extraction function has failed\n",
    "\n",
    "We can apply this function using the DataFrame's `apply` method. This takes the function to be applied, along with any additional arguments (In addition to the value of the column, of course)\n",
    "\n",
    "\n",
    "_\\*\\* **For those of you who are interested, this function uses [regular expressions](https://en.wikipedia.org/wiki/Regular_expression) to find matching substrings of a given input string. You can play around with and [learn regex here](https://regexr.com/)**_"
   ]
  },
  {
   "cell_type": "code",
   "execution_count": null,
   "id": "1b2266f8",
   "metadata": {},
   "outputs": [],
   "source": [
    "import re\n",
    "\n",
    "import numpy as np\n",
    "\n",
    "# Defining the function that will be used to extract metric dimensions. The first argument to\n",
    "# the function must be the value in the column. \n",
    "def extract_dimensions(dim_str):\n",
    "    dimensions_exp = r\"(?<=\\()( *\\d.+?)(?=cm\\))\"\n",
    "    delimiter_exp = r\"(?:\\d+\\.?\\d* *)([^\\.\\n])(?: *\\d+\\.?\\d* *)?(?:[^\\.\\n] *\\d+\\.?\\d*)?\"\n",
    "    retval = np.nan\n",
    "    try:\n",
    "        dim_str = dim_str.split(\"\\n\")[0]\n",
    "        dimensions = re.search(dimensions_exp, dim_str).group(0)\n",
    "        delimiter = re.search(delimiter_exp, dimensions.strip()).groups()[0]\n",
    "        if not delimiter.isnumeric():\n",
    "            # There are multiple dimensions\n",
    "            retval = ','.join(dimensions.split(delimiter))\n",
    "        else:\n",
    "            retval = dimensions\n",
    "    except AttributeError as e:\n",
    "        pass\n",
    "    finally:\n",
    "        return retval"
   ]
  },
  {
   "cell_type": "code",
   "execution_count": null,
   "id": "da2aa2e8",
   "metadata": {},
   "outputs": [],
   "source": [
    "# Standardise the dimensions of the pieces\n",
    "dataset['Dimensions'] = dataset['Dimensions'].apply(extract_dimensions, args=()) # using the extract_dimensions function we defined earlier\n",
    "\n",
    "# Because extract_dimensions can fail and return NaN, we also need to remove any records where Dimensions is NaN\n",
    "dataset = dataset.dropna(subset=important_cols)\n",
    "dataset"
   ]
  },
  {
   "cell_type": "markdown",
   "id": "9deff332",
   "metadata": {},
   "source": [
    "### 2.4.5 Default values\n",
    "Artists are known to often leave their work untitled. In our dataset, this is not handled very gracefully - the titles of such artworks are simple NaN. Fortunately, we have another way of dealing with missing data: assinging a default value. We can replace any instance of a NaN title with the string \"Untitled\""
   ]
  },
  {
   "cell_type": "code",
   "execution_count": null,
   "id": "d6f8ec34",
   "metadata": {},
   "outputs": [],
   "source": [
    "# Setting default values. \n",
    "\n",
    "dataset['Title'].fillna('Untitled', inplace=True) # This replaces any instance of NaN in the Title column with Untitled\n",
    "dataset"
   ]
  },
  {
   "cell_type": "markdown",
   "id": "ecf99cdc",
   "metadata": {},
   "source": [
    "### 2.4.6 Data types\n",
    "We change some data types that don't really make sense: `AccessionYear` and `Object Begin Date` were originally loaded in with mixed datatypes (some are strings, some are numbers), which makes it difficult to sort correctly."
   ]
  },
  {
   "cell_type": "code",
   "execution_count": null,
   "id": "6b60800e",
   "metadata": {},
   "outputs": [],
   "source": [
    "dataset = dataset.astype({'AccessionYear': 'int', 'Object Begin Date': 'int'})\n",
    "\n",
    "# Finally, we can sort a dataframe based on the values in a specific column\n",
    "dataset = dataset.sort_values('AccessionYear')\n",
    "dataset"
   ]
  },
  {
   "cell_type": "markdown",
   "id": "6e59d5bd",
   "metadata": {},
   "source": [
    "## 2.5 Dataframe interrogation\n",
    "We can now begin to ask some interesting questions about this dataset:\n",
    "1. Which department houses the oldest artwork in the museum? Use `Object Begin Date` for this task.\n",
    "2. What is the proportion of artworks from each department? Display this graphically using [`pd.DataFrame.plot.pie`](https://pandas.pydata.org/docs/reference/api/pandas.DataFrame.plot.pie.html)\n",
    "3. What is the average area in $cm^2$ of Paintings in the Asian Art department?\n",
    "4. _What is the most common theme across all the paintings? Or, which tag is most common?**\\*\\***_  \n",
    "\n",
    "_**\\*\\* Slightly more difficult, multi-step problem**_"
   ]
  },
  {
   "cell_type": "markdown",
   "id": "6e0c3b46",
   "metadata": {},
   "source": [
    "### 2.5.1 Exercise\n",
    "Oldest artwork in the museum."
   ]
  },
  {
   "cell_type": "code",
   "execution_count": null,
   "id": "b817d863",
   "metadata": {},
   "outputs": [],
   "source": [
    "dataset_sorted = dataset.astype({'AccessionYear': 'int', 'Object Begin Date': 'int'})\n",
    "# print(dataset_sorted)\n",
    "oldest_record = dataset.min()\n",
    "department_name = oldest_record['Department']\n",
    "print(department_name)"
   ]
  },
  {
   "cell_type": "markdown",
   "id": "4d8aec81",
   "metadata": {},
   "source": [
    "### 2.5.2 Exercise\n",
    "Plot the proportion of artworks from each department as a pie chart."
   ]
  },
  {
   "cell_type": "code",
   "execution_count": null,
   "id": "7ee0c9f5",
   "metadata": {},
   "outputs": [],
   "source": [
    "\n",
    "departments = dataset.groupby(['Department'])\n",
    "g = departments.size().reset_index(name='Counts')\n",
    "g"
   ]
  },
  {
   "cell_type": "code",
   "execution_count": null,
   "id": "f15506de",
   "metadata": {},
   "outputs": [],
   "source": [
    "# The DataFrame has a built-in plotting function that you can \n",
    "# call like so: \n",
    "departments = g\n",
    "departments.plot.pie(y=\"Counts\", \n",
    "                     explode=[0.125 for _ in range(len(departments))], \n",
    "                     labels=departments['Department'], \n",
    "                     legend=None, ylabel=\"Department\")"
   ]
  },
  {
   "cell_type": "markdown",
   "id": "128179a4",
   "metadata": {},
   "source": [
    "### 2.5.3 Question 3\n",
    "What is the average area in $cm^2$ of Paintings in the Asian wing? Begin by selecting the pieces that belong to the Asian Art department AND are paintings:"
   ]
  },
  {
   "cell_type": "code",
   "execution_count": null,
   "id": "ea4a5efb",
   "metadata": {},
   "outputs": [],
   "source": [
    "department_bool_series =  dataset['Department'] == 'Asian Art'\n",
    "painting_bool_series = dataset['Object Name'] == 'Painting'\n",
    "asian_paintings = department_bool_series & painting_bool_series\n",
    "dataset.loc[asian_paintings]\n",
    "findings = dataset.loc[asian_paintings]\n",
    "exclude_cols = [\n",
    "    'Object Number',\n",
    "    'Is Public Domain',\n",
    "    'Department',\n",
    "    'AccessionYear',\n",
    "    'Object Name',\n",
    "    'Title',\n",
    "    'Object Begin Date',\n",
    "    'Medium',\n",
    "    'Tags'\n",
    "]\n",
    "findings = dataset.drop(exclude_cols, axis=1) \n",
    "findings"
   ]
  },
  {
   "cell_type": "code",
   "execution_count": 157,
   "id": "e42ae665",
   "metadata": {},
   "outputs": [
    {
     "name": "stdout",
     "output_type": "stream",
     "text": [
      "50.8 76.2\n",
      "58.1 47.9\n",
      "62.9 47.0\n",
      "100.0 70.2\n",
      "36.0 63.7\n",
      "38.6 40.8\n",
      "5.7 4.8\n",
      "12.1 16.2\n",
      "92.1 137.2\n",
      "54.0 72.0\n",
      "32.4 40.3\n",
      "64.8 86.4\n",
      "16.8 14.6\n",
      "17.1 14.9\n",
      "52.7 69.2\n",
      "16.8 20.3\n",
      "11.3 18.1\n",
      "8.3 6.4\n",
      "8.7 6.8\n",
      "76.2 63.5\n",
      "6.4 5.3\n",
      "91.4 132.7\n",
      "56.5 86.4\n",
      "18.9 24.1\n",
      "36.4 31.1\n",
      "11.1 9.2\n",
      "8.3 7.9\n",
      "41.3 31.4\n",
      "4.9 3.7\n",
      "63.5 80.3\n",
      "53.8 72.0\n",
      "56.2 73.7\n",
      "13.5 13.5\n",
      "4.4 3.7\n",
      "6.2 4.9\n",
      "43.6 63.9\n",
      "57.2 90.2\n",
      "65.4 119.7\n",
      "13.7 14.9\n",
      "8.6 11.1\n",
      "68.6 55.9\n",
      "5.7 4.8\n",
      "5.0 3.7\n",
      "3.3 3.0\n",
      "3.2 2.2\n",
      "91.4 73.7\n",
      "11.8 17.8\n",
      "8.9 14.3\n",
      "57.8 41.3\n",
      "52.7 39.4\n",
      "16.8 25.2\n",
      "87.6 75.0\n",
      "91.0 73.3\n",
      "7.6 4.8\n",
      "19.1 31.6\n",
      "6.2 5.0\n",
      "25.4 35.6\n",
      "78.1 61.0\n",
      "2.9 1.6\n",
      "2.5 2.9\n",
      "24.4 21.3\n",
      "4.1 2.7\n",
      "28.6 42.1\n",
      "27.3 34.3\n",
      "76.2 63.5\n",
      "38.7 25.7\n",
      "23.0 18.7\n",
      "24.4 41.0\n",
      "5.9 4.5\n",
      "21.3 15.9\n",
      "49.8 72.7\n",
      "49.9 68.6\n",
      "45.9 56.5\n",
      "50.2 181.0\n",
      "21.0 31.0\n",
      "36.2 26.0\n",
      "29.2 41.3\n",
      "33.5 42.7\n",
      "48.6 74.9\n",
      "50.8 40.6\n",
      "7.3 5.4\n",
      "5.1 4.1\n",
      "74.9 62.2\n",
      "12.1 19.7\n",
      "125.2 99.8\n",
      "66.5 49.0\n",
      "125.7 101.6\n",
      "14.0 10.5\n",
      "30.5 28.0\n",
      "8.3 6.7\n",
      "5.1 7.5\n",
      "17.1 11.4\n",
      "11.3 8.9\n",
      "2.9 15.9\n",
      "9.2 8.3\n",
      "29.7 24.4\n",
      "29.8 24.4\n",
      "51.3 38.6\n",
      "9.4 6.7\n",
      "17.1 10.5\n",
      "6.0 7.5\n",
      "7.3 6.0\n",
      "76.2 63.5\n",
      "43.7 89.4\n",
      "26.8 19.7\n",
      "63.5 88.9\n",
      "26.8 19.7\n",
      "40.3 50.8\n",
      "12.1 19.1\n",
      "48.6 36.0\n",
      "43.3 36.5\n",
      "55.2 42.9\n",
      "60.3 69.2\n",
      "29.2 41.3\n",
      "18.7 24.1\n",
      "35.4 28.9\n",
      "53.6 71.9\n",
      "26.2 41.4\n",
      "61.0 73.7\n",
      "63.0 80.6\n",
      "7.3 6.0\n",
      "91.9 147.8\n",
      "58.4 44.5\n",
      "11.1 7.6\n",
      "12.7 6.0\n",
      "45.7 61.0\n",
      "40.0 49.8\n",
      "11.0 8.9\n",
      "21.3 14.4\n",
      "15.6 19.4\n",
      "50.2 38.1\n",
      "6.4 5.2\n",
      "73.7 52.1\n",
      "57.2 72.4\n",
      "21.3 16.2\n",
      "75.6 60.6\n",
      "21.3 16.0\n",
      "64.1 53.3\n",
      "76.2 61.0\n",
      "20.8 15.9\n",
      "93.7 71.4\n",
      "64.1 53.0\n",
      "64.3 50.5\n",
      "21.3 15.9\n",
      "82.6 68.6\n",
      "36.2 21.8\n",
      "8.9 16.5\n",
      "25.4 30.5\n",
      "24.8 50.8\n",
      "46.4 149.2\n",
      "15.9 12.9\n",
      "6.8 12.5\n",
      "30.5 76.2\n",
      "32.4 12.4\n",
      "99.4 59.1\n",
      "21.3 10.8\n",
      "19.4 12.7\n",
      "61.3 95.6\n",
      "48.4 32.5\n",
      "42.9 33.7\n",
      "29.4 23.2\n",
      "21.0 10.0\n",
      "5.6 4.4\n",
      "5.7 4.3\n",
      "75.3 56.5\n",
      "39.4 22.9\n",
      "15.6 23.5\n",
      "30.5 20.3\n",
      "35.6 30.5\n",
      "12.4 22.9\n",
      "35.6 31.8\n",
      "92.7 130.5\n",
      "76.2 61.0\n",
      "116.8 91.4\n",
      "40.6 63.5\n",
      "13.3 10.5\n",
      "84.8 64.5\n",
      "11.2 9.5\n",
      "64.3 53.3\n",
      "83.8 65.1\n",
      "177.8 146.1\n",
      "83.8 65.1\n",
      "84.8 64.5\n",
      "76.2 63.5\n",
      "76.8 65.1\n",
      "50.5 37.5\n",
      "103.8 80.6\n",
      "83.8 64.5\n",
      "76.5 63.8\n",
      "76.8 64.1\n",
      "83.8 57.2\n",
      "53.8 89.4\n",
      "71.4 76.5\n",
      "61.0 91.4\n",
      "53.7 76.8\n",
      "53.3 68.7\n",
      "54.3 83.2\n",
      "17.9 14.0\n",
      "40.6 64.1\n",
      "40.8 61.3\n",
      "38.6 51.0\n",
      "30.5 40.6\n",
      "61.0 50.8\n",
      "28.6 31.4\n",
      "25.7 20.3\n",
      "60.5 53.3\n",
      "49.5 37.5\n",
      "53.3 19.1\n",
      "36.8 22.9\n",
      "41.0 26.7\n",
      "60.3 31.4\n",
      "50.8 45.7\n",
      "71.1 27.9\n",
      "66.0 39.4\n",
      "27.1 19.1\n",
      "59.7 59.7\n",
      "61.0 48.3\n",
      "54.6 27.9\n",
      "60.3 45.7\n",
      "57.8 18.4\n",
      "56.5 22.2\n",
      "87.6 26.7\n",
      "101.6 91.4\n",
      "91.9 76.2\n",
      "121.9 152.7\n",
      "75.9 122.2\n",
      "7.3 6.0\n",
      "11.4 17.5\n",
      "100.5 81.3\n",
      "63.5 30.5\n",
      "92.1 118.1\n",
      "132.1 186.1\n",
      "61.0 50.8\n",
      "31.8 23.5\n",
      "21.6 34.3\n",
      "61.3 51.1\n",
      "24.3 16.2\n",
      "73.7 96.6\n",
      "53.7 43.7\n",
      "86.2 62.9\n",
      "130.2 180.7\n",
      "61.6 85.7\n",
      "24.4 35.1\n",
      "85.7 68.3\n",
      "13.3 18.7\n",
      "13.0 8.7\n",
      "13.2 17.6\n",
      "5.9 4.9\n",
      "55.7 30.5\n",
      "10.2 8.4\n",
      "9.2 13.5\n",
      "65.4 53.7\n",
      "91.4 71.1\n",
      "193.0 138.4\n",
      "50.2 73.0\n",
      "178.8 204.5\n",
      "73.7 59.4\n",
      "11.4 17.8\n",
      "7.6 9.0\n",
      "7.6 8.1\n",
      "215.3 108.6\n",
      "22.9 30.5\n",
      "193.4 90.8\n",
      "10.8 12.7\n",
      "29.8 18.4\n",
      "11.6 14.1\n",
      "6.4 7.0\n",
      "4.1 5.6\n",
      "9.8 8.9\n",
      "10.2 8.7\n",
      "68.6 134.9\n",
      "12.7 8.3\n",
      "29.4 17.8\n",
      "11.6 4.9\n",
      "5.6 9.5\n",
      "17.8 14.3\n",
      "7.5 17.1\n",
      "217.8 109.5\n",
      "11.3 14.0\n",
      "5.9 4.4\n",
      "9.0 6.4\n",
      "19.2 12.7\n",
      "9.7 5.7\n",
      "28.6 12.7\n",
      "2.9 2.9\n",
      "11.0 8.7\n",
      "8.3 9.8\n",
      "9.0 12.4\n",
      "5.1 6.7\n",
      "10.2 6.4\n",
      "10.8 5.7\n",
      "14.9 18.4\n",
      "9.8 9.5\n",
      "19.7 13.3\n",
      "8.3 9.2\n",
      "7.9 13.0\n",
      "7.6 4.1\n",
      "13.2 17.8\n",
      "28.6 18.1\n",
      "15.4 14.1\n",
      "13.3 7.1\n",
      "28.9 18.6\n",
      "28.6 18.4\n",
      "7.5 4.1\n",
      "10.8 7.3\n",
      "18.4 14.6\n",
      "21.6 12.4\n",
      "9.5 5.6\n",
      "14.1 15.6\n",
      "9.4 6.0\n",
      "16.2 8.9\n",
      "10.2 8.9\n",
      "38.1 15.2\n",
      "13.0 7.3\n",
      "12.7 8.3\n",
      "14.6 18.9\n",
      "26.8 19.7\n",
      "6.5 9.8\n",
      "27.9 18.4\n",
      "26.8 19.7\n",
      "12.4 5.7\n",
      "12.4 10.3\n",
      "7.9 4.4\n",
      "10.8 5.4\n",
      "9.8 11.0\n",
      "56.5 69.2\n",
      "46.0 27.0\n",
      "15.4 13.0\n",
      "7.9 6.7\n",
      "40.6 103.3\n",
      "107.5 91.7\n",
      "91.4 68.9\n",
      "144.8 97.2\n",
      "56.2 46.4\n",
      "7.8 6.7\n",
      "7.9 6.7\n",
      "56.5 45.1\n",
      "6.3 5.1\n",
      "7.3 5.9\n",
      "8.9 6.7\n",
      "6.4 5.2\n",
      "31.4 44.5\n",
      "66.0 55.7\n",
      "65.2 55.2\n",
      "134.7 91.0\n",
      "10.0 17.5\n",
      "76.2 63.5\n",
      "76.2 63.5\n",
      "76.2 63.5\n",
      "76.2 63.5\n",
      "127.0 101.6\n",
      "6.5 5.1\n",
      "6.6 5.4\n",
      "7.6 6.0\n",
      "7.5 6.0\n",
      "25.1 17.2\n",
      "71.8 51.4\n",
      "71.8 51.4\n",
      "71.8 51.4\n",
      "38.0 27.3\n",
      "40.2 25.1\n",
      "24.8 31.1\n",
      "24.8 31.1\n",
      "154.0 128.3\n",
      "46.0 76.5\n",
      "27.9 43.2\n",
      "125.1 94.0\n",
      "88.3 136.5\n",
      "66.7 101.6\n",
      "14.0 22.9\n",
      "54.6 32.0\n",
      "50.8 76.2\n",
      "36.5 58.4\n",
      "124.1 28.9\n",
      "22.9 37.5\n",
      "17.8 31.4\n",
      "61.4 46.8\n",
      "30.3 45.6\n",
      "45.9 33.8\n",
      "22.9 16.8\n",
      "7.9 6.1\n",
      "5.2 3.5\n",
      "27.0 23.2\n",
      "35.6 25.1\n",
      "17.0 10.8\n"
     ]
    },
    {
     "ename": "ValueError",
     "evalue": "could not convert string to float: ' 12 1/8 '",
     "output_type": "error",
     "traceback": [
      "\u001b[0;31m---------------------------------------------------------------------------\u001b[0m",
      "\u001b[0;31mValueError\u001b[0m                                Traceback (most recent call last)",
      "Cell \u001b[0;32mIn [157], line 24\u001b[0m\n\u001b[1;32m     21\u001b[0m \u001b[39m# Apply the function to asian_paintings and assign the result of it to a new column Area \u001b[39;00m\n\u001b[1;32m     23\u001b[0m \u001b[39mfor\u001b[39;00m i \u001b[39min\u001b[39;00m \u001b[39mrange\u001b[39m(\u001b[39m1\u001b[39m, \u001b[39mlen\u001b[39m(findings[\u001b[39m'\u001b[39m\u001b[39mDimensions\u001b[39m\u001b[39m'\u001b[39m]) \u001b[39m+\u001b[39m\u001b[39m1\u001b[39m):\n\u001b[0;32m---> 24\u001b[0m     asian_paintings[\u001b[39m'\u001b[39m\u001b[39mArea\u001b[39m\u001b[39m'\u001b[39m]  \u001b[39m=\u001b[39m calc_area(findings[\u001b[39m'\u001b[39;49m\u001b[39mDimensions\u001b[39;49m\u001b[39m'\u001b[39;49m]\u001b[39m.\u001b[39;49miloc[i])\n\u001b[1;32m     25\u001b[0m asian_paintings[\u001b[39m'\u001b[39m\u001b[39mArea\u001b[39m\u001b[39m'\u001b[39m]\n",
      "Cell \u001b[0;32mIn [157], line 18\u001b[0m, in \u001b[0;36mcalc_area\u001b[0;34m(dim_string)\u001b[0m\n\u001b[1;32m     13\u001b[0m     \u001b[39mreturn\u001b[39;00m math\u001b[39m.\u001b[39mpi \u001b[39m*\u001b[39m radius \u001b[39m*\u001b[39m radius\n\u001b[1;32m     14\u001b[0m \u001b[39melif\u001b[39;00m \u001b[39mlen\u001b[39m(dims) \u001b[39m>\u001b[39m\u001b[39m=\u001b[39m \u001b[39m2\u001b[39m:\n\u001b[1;32m     15\u001b[0m     \u001b[39m# We have a rectangular painting, use the rectangular area formula\u001b[39;00m\n\u001b[1;32m     16\u001b[0m     \u001b[39m# Some paintings probably have a 3rd dimension to indicate the depth\u001b[39;00m\n\u001b[1;32m     17\u001b[0m     \u001b[39m# of its frame, we can ignore this and only take the first 2 elements\u001b[39;00m\n\u001b[0;32m---> 18\u001b[0m     \u001b[39mprint\u001b[39m(\u001b[39mfloat\u001b[39m(dims[\u001b[39m0\u001b[39m]), \u001b[39mfloat\u001b[39;49m(dims[\u001b[39m1\u001b[39;49m]))\n\u001b[1;32m     19\u001b[0m     width, height  \u001b[39m=\u001b[39m \u001b[39mfloat\u001b[39m(dims[\u001b[39m0\u001b[39m]), \u001b[39mfloat\u001b[39m(dims[\u001b[39m1\u001b[39m]) \n\u001b[1;32m     20\u001b[0m     \u001b[39mreturn\u001b[39;00m width \u001b[39m*\u001b[39m height\n",
      "\u001b[0;31mValueError\u001b[0m: could not convert string to float: ' 12 1/8 '"
     ]
    }
   ],
   "source": [
    "import math\n",
    "\n",
    "# We can apply a simple area calculation function to each item in the Dimensions column\n",
    "def calc_area(dim_string):\n",
    "    # Note that some paintings are listed as having only 1 dimension - here we can assume that they are \n",
    "    # circular and that the given dimension is its diameter (and probably not radius as that cannot be measured as easily)\n",
    "    # print(dim_string)\n",
    "    dims = dim_string.split(',')# extract dimensions from the string and place them into a list\n",
    "    if len(dims) == 1:\n",
    "        # We have a circular painting, apply the circular area formula\n",
    "        diameter = float(dims[0])  # dimensions are strings, so need to be converted to floats\n",
    "        radius = diameter/2\n",
    "        return math.pi * radius * radius\n",
    "    elif len(dims) >= 2:\n",
    "        # We have a rectangular painting, use the rectangular area formula\n",
    "        # Some paintings probably have a 3rd dimension to indicate the depth\n",
    "        # of its frame, we can ignore this and only take the first 2 elements\n",
    "        print(float(dims[0]), float(dims[1]))\n",
    "        width, height  = float(dims[0]), float(dims[1]) \n",
    "        return width * height\n",
    "# Apply the function to asian_paintings and assign the result of it to a new column Area \n",
    "\n",
    "for i in range(1, len(findings['Dimensions']) +1):\n",
    "    asian_paintings['Area']  = calc_area(findings['Dimensions'].iloc[i])\n",
    "asian_paintings['Area']"
   ]
  },
  {
   "cell_type": "code",
   "execution_count": null,
   "id": "3a22b9fd",
   "metadata": {},
   "outputs": [],
   "source": [
    "# We now have an Area column that we can reduce to find the average of the paintings in the Asian Art department:\n",
    "average_area = findings['Dimensions']\n",
    "average_area\n",
    "# print(average_area)"
   ]
  },
  {
   "cell_type": "markdown",
   "id": "b65c3b85",
   "metadata": {},
   "source": [
    "### 2.5.4 Question 4\n",
    "What is the most common theme across all the paintings? Or, which tag is most common?\n",
    "\n",
    "Note: You may find Python's [string split](https://python-reference.readthedocs.io/en/latest/docs/str/split.html) and [extend](https://python-reference.readthedocs.io/en/latest/docs/list/extend.html) functions very helpful in this exercise."
   ]
  },
  {
   "cell_type": "code",
   "execution_count": null,
   "id": "ab405ba8",
   "metadata": {},
   "outputs": [],
   "source": [
    "# declare an empty list to collect all the separated tags in the database\n",
    "tags_list = []"
   ]
  },
  {
   "cell_type": "code",
   "execution_count": null,
   "id": "30a0820a",
   "metadata": {},
   "outputs": [],
   "source": [
    "# get the Tags series out of the dataset and assign it to a variable\n",
    "# called tags_series\n",
    "tags_series = ..."
   ]
  },
  {
   "cell_type": "code",
   "execution_count": null,
   "id": "7041912c",
   "metadata": {},
   "outputs": [],
   "source": [
    "# Write a function that accepts a Tag string and a list, and updates \n",
    "# the list with the individual tags found in the string.\n",
    "def update_list(t, l):\n",
    "    pass"
   ]
  },
  {
   "cell_type": "code",
   "execution_count": null,
   "id": "17762d66",
   "metadata": {},
   "outputs": [],
   "source": [
    "# apply your function update_list to tag_series.\n",
    "..."
   ]
  },
  {
   "cell_type": "code",
   "execution_count": null,
   "id": "e4d66cbf",
   "metadata": {},
   "outputs": [],
   "source": [
    "# turn the tags list into a dataframe called tags_df\n",
    "tags_df = ..."
   ]
  },
  {
   "cell_type": "code",
   "execution_count": null,
   "id": "c456d33d",
   "metadata": {},
   "outputs": [],
   "source": [
    "# group the dataframe by Tag and count the occurences of each tag\n",
    "tags_df = .."
   ]
  },
  {
   "cell_type": "code",
   "execution_count": null,
   "id": "e13dec11",
   "metadata": {},
   "outputs": [],
   "source": [
    "# sort the list by count to find the one with the tag with the \n",
    "# highest number of occurences\n",
    "tags_df = ...\n",
    "highest_occurenct = ..."
   ]
  }
 ],
 "metadata": {
  "kernelspec": {
   "display_name": "Python 3 (ipykernel)",
   "language": "python",
   "name": "python3"
  },
  "language_info": {
   "codemirror_mode": {
    "name": "ipython",
    "version": 3
   },
   "file_extension": ".py",
   "mimetype": "text/x-python",
   "name": "python",
   "nbconvert_exporter": "python",
   "pygments_lexer": "ipython3",
   "version": "3.10.6"
  },
  "vscode": {
   "interpreter": {
    "hash": "6374a1ab24d7af966fc22fe5561f86862601f90d48312430d91baf83f587b837"
   }
  }
 },
 "nbformat": 4,
 "nbformat_minor": 5
}
