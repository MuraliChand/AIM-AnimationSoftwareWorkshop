{
 "cells": [
  {
   "cell_type": "markdown",
   "id": "b86a684c",
   "metadata": {},
   "source": [
    "# 3. Creating an image classifier\n",
    "\n",
    "A classic machine learning task is to train a model to classify images. Over the next few weeks, you will go through the basic steps in the machine learning pipeline that you will need to build more complex models:\n",
    "1. Data handling\n",
    "2. Using Pytorch (a machine learning framework) to define models\n",
    "3. Create a training loop\n",
    "4. Metric logging\n",
    "5. Pytorch Lightning\n",
    "\n",
    "For this exercise, we will be training a neural network to identify the digits 0 - 9 from pictures of handwritten numbers. In other words, given a picture of a digit such as this:  \n",
    "<img style=\"float: left;\" src=\"img/seven.png\"/> \n",
    "<br clear=\"left\"/>\n",
    "Our model should be able to predict that this is the digit 7. Even relatively simple models (such as the one we will be building) can achieve very good results, as we will see."
   ]
  },
  {
   "cell_type": "markdown",
   "id": "936afb51",
   "metadata": {},
   "source": [
    "## 3.1 Pytorch\n",
    "Pytorch is a framework that provides many convenience functions and classes that will help us build our machine learning network much faster than we would be able to from scratch using pure Python. It takes care of abstracting away the components of your neural network (called `Module`s) and making sure that things like forward and backwards passes, gradient calculations, and weight updates are handled for you. It also facilitates the loading of data via classes like `Dataset` and `Dataloader`.\n",
    "\n"
   ]
  },
  {
   "cell_type": "code",
   "execution_count": 1,
   "id": "5bd2d0ac",
   "metadata": {},
   "outputs": [],
   "source": [
    "import torch"
   ]
  },
  {
   "cell_type": "markdown",
   "id": "abb346d9",
   "metadata": {},
   "source": [
    "### 3.1.1  The MNIST dataset\n",
    "The starting point of any machine learning project is the data. We need to ensure that we have a suitable dataset for the task at hand, and we need to do some work in order to prepare it before it is eventually put into our model. The dataset we will be using for our number recognition task is the popular [MNIST dataset](http://yann.lecun.com/exdb/mnist/), which contains tens of thousands of images of digits written by different people and nicely formatted into a standard size (28 * 28 pixels).  \n",
    "\n",
    "Let's download this dataset using the special `!` operator that we saw in last week's lab "
   ]
  },
  {
   "cell_type": "code",
   "execution_count": 2,
   "id": "79dfb168",
   "metadata": {},
   "outputs": [],
   "source": [
    "#mnist_url = 'https://get.station307.com/3vryg2xKXQe/MNIST.tar.gz'\n",
    "\n",
    "# download mnist dataset and place in current directory\n",
    "# !wget $mnist_url"
   ]
  },
  {
   "cell_type": "code",
   "execution_count": 3,
   "id": "bf400497",
   "metadata": {},
   "outputs": [],
   "source": [
    "# extract contents\n",
    "# !tar -vxzf MNIST.tar.gz -C data/\n",
    "\n"
   ]
  },
  {
   "cell_type": "code",
   "execution_count": 4,
   "id": "ecd42b2b",
   "metadata": {},
   "outputs": [],
   "source": [
    "# create a csv file that maps images to their labels"
   ]
  },
  {
   "cell_type": "markdown",
   "id": "41d1433d",
   "metadata": {},
   "source": [
    "### 3.1.2 Visualising Images\n",
    "When working with image data, it can be helpful to define visualisation helper functions to make sure that the data visually \"looks right\""
   ]
  },
  {
   "cell_type": "code",
   "execution_count": 5,
   "id": "14040c94",
   "metadata": {},
   "outputs": [
    {
     "data": {
      "text/plain": [
       "<matplotlib.image.AxesImage at 0x7f53ad7e1690>"
      ]
     },
     "execution_count": 5,
     "metadata": {},
     "output_type": "execute_result"
    },
    {
     "data": {
      "image/png": "[encoded data removed]",
      "text/plain": [
       "<Figure size 640x480 with 1 Axes>"
      ]
     },
     "metadata": {},
     "output_type": "display_data"
    }
   ],
   "source": [
    "from PIL import Image\n",
    "import matplotlib.pyplot as plt\n",
    "import torchvision.transforms as transforms\n",
    "\n",
    "\n",
    "def load_image_tensor(filepath, threshold):\n",
    "    img = Image.open(filepath)\n",
    "    transform = transforms.Compose([\n",
    "        transforms.PILToTensor()\n",
    "    ])\n",
    "    img_tensor = transform(img)\n",
    "    img_tensor  = torch.where(img_tensor < threshold, 0, img_tensor)\n",
    "    return img_tensor\n",
    "\n",
    "img = load_image_tensor(\"data/MNIST/raw/8/img_10024.jpg\", 50).reshape(28, 28)\n",
    "plt.imshow(img)"
   ]
  },
  {
   "cell_type": "markdown",
   "id": "57c36862",
   "metadata": {},
   "source": [
    "### 3.1.2 Subclassing the Dataset class\n",
    "Dataset is an abstract class provided by Pytorch, which means it defines a specification of what its subclasses must look like via function signatures. However, these functions are not actually implemented in the source code of the Dataset class. It's the programmer's job (yours!) to make sure the methods laid out in the signatures are implemented. Let's import these modules now, along with some other useful packages. "
   ]
  },
  {
   "cell_type": "code",
   "execution_count": 6,
   "id": "9ad2d0fd",
   "metadata": {},
   "outputs": [],
   "source": [
    "from torch.utils.data import Dataset\n",
    "import pandas as pd"
   ]
  },
  {
   "cell_type": "code",
   "execution_count": 17,
   "id": "2e68c767",
   "metadata": {},
   "outputs": [],
   "source": [
    "# Here we define our dataset - it is a map-style dataset, which means we have to know its size at initialisation and  \n",
    "# must be able to access data points at arbitrary locations. This is why the following methods must be implemented:\n",
    "# __len__ and __getitem__ \n",
    "class MNISTDataset(Dataset):\n",
    "    def __init__(self, filepath: str): \n",
    "        super().__init__()\n",
    "        # Load data from CSV filepath defined earlier into a Pandas dataframe\n",
    "        self.data = pd.read_csv(filepath)\n",
    "    # implement __len__\n",
    "    def __len__(self):\n",
    "        return len(self.data)\n",
    "\n",
    "    # implement __getitem__\n",
    "    def __getitem(self):\n",
    "        return self.data.iloc[i]"
   ]
  },
  {
   "cell_type": "markdown",
   "id": "25364ebe",
   "metadata": {},
   "source": [
    "### 3.1.3 The collate function\n",
    "The collate function is used to tell the Pytorch DataLoader how to handle datapoints from the MNISTDataset we defined earlier and pack them into a batch. By default (i.e. no specific collate_fn is passed), the DataLoader would simply add the dataset items to an array and ensure that the array is of a certain size (the batch size). This would normally not be a problem if we were working with text data that is of a fixed length.  \n",
    "\n",
    "However, in our case, we are working with image data, and our dataset (which is essentially just a Pandas DataFrame) does not actually contain the images themselves, but filepaths to them, along with labels. For this reason, we must define a custom collate function that reads these images and their labels into memory, and returns them side-by-side so we can use them in our neural network."
   ]
  },
  {
   "cell_type": "code",
   "execution_count": 18,
   "id": "268754a5",
   "metadata": {},
   "outputs": [],
   "source": [
    "import multiprocessing as mp\n",
    "from torch.utils.data import DataLoader, random_split\n"
   ]
  },
  {
   "cell_type": "code",
   "execution_count": 19,
   "id": "860f2f45",
   "metadata": {},
   "outputs": [
    {
     "data": {
      "text/plain": [
       "(<torch.utils.data.dataloader.DataLoader at 0x7f53ad7e2dd0>,\n",
       " <torch.utils.data.dataloader.DataLoader at 0x7f53a624ec80>,\n",
       " <torch.utils.data.dataloader.DataLoader at 0x7f53a624ea40>)"
      ]
     },
     "execution_count": 19,
     "metadata": {},
     "output_type": "execute_result"
    }
   ],
   "source": [
    "def custom_collate_fn(batch):\n",
    "    # Define a tensor of the same size as our image batch to store loaded images into\n",
    "    # Define empty lists to hold items we encounter\n",
    "    image_batch_tensor = torch.FloatTensor(len(batch), 28, 28)\n",
    "    image_tensors = []\n",
    "    labels = []\n",
    "    for item in batch:\n",
    "        # load a single image\n",
    "        image_tensor = load_image_tensor(f\"data/MNIST/{item[0]}\", 50)\n",
    "        # put image into a list\n",
    "        image_tensors.append(image_tensor)\n",
    "        # put the same image's label into another list\n",
    "        labels.append(item[1])\n",
    "\n",
    "    # Concatenate the list of individual tensors (image_tensors) into a single Pytorch tensor (image_batch_tensor)\n",
    "    torch.cat(image_tensors, out=image_batch_tensor)\n",
    "    # Use the label list to create a torch tensor of ints\n",
    "    label_batch_tensor = torch.LongTensor(labels)\n",
    "    return (image_batch_tensor, label_batch_tensor)\n",
    "\n",
    "\n",
    "\n",
    "\n",
    "# This is a convenience funtion that returns dataset splits of train, val and test according to the fractions specified in the arguments\n",
    "def load_data(data_path, batch_sz=100, train_val_test_split=[0.3, 0.2, 0.5]):\n",
    "    \n",
    "    assert sum(train_val_test_split) == 1, \"Train, val and test fractions should sum to 1!\"  # Always a good idea to use static asserts when processing arguments that are passed in by a user!\n",
    "    # Instantite our previously defined dataset\n",
    "    \n",
    "    dataset = MNISTDataset(data_path)\n",
    "    # split dataset into train, val and test\n",
    "    \n",
    "    tr_va_te = []\n",
    "    for frac in train_val_test_split:\n",
    "        actual_count = frac * len(dataset)\n",
    "        actual_count = round(actual_count)\n",
    "        tr_va_te.append(actual_count)\n",
    "\n",
    "    # Use Pytorch DataLoader to load each split into memory. It's important to pass in our custom collate function, so it knows how to interpret the \n",
    "    # data and load it. num_workers tells the DataLoader how many CPU threads to use so that data can be loaded in parallel, which is faster\n",
    "    import multiprocessing as mp\n",
    "    \n",
    "    # Get CPU count\n",
    "    num_cpus = mp.cpu_count() # returns number of CPU cores on this machine\n",
    "    train_split, val_split, test_split = random_split(dataset, tr_va_te)\n",
    "    \n",
    "    train_dl = DataLoader(train_split, \n",
    "                         batch_size=batch_sz,\n",
    "                          collate_fn=custom_collate_fn,\n",
    "                          shuffle=True,\n",
    "                          num_workers=num_cpus\n",
    "                         )\n",
    "    \n",
    "    val_dl = DataLoader(val_split, \n",
    "                         batch_size=batch_sz,\n",
    "                          collate_fn=custom_collate_fn,\n",
    "                          shuffle=True,\n",
    "                          num_workers=num_cpus\n",
    "                         )\n",
    "    \n",
    "    test_dl = DataLoader(test_split, \n",
    "                         batch_size=batch_sz,\n",
    "                          collate_fn=custom_collate_fn,\n",
    "                          shuffle=True,\n",
    "                          num_workers=num_cpus\n",
    "                         )\n",
    "    return train_dl, val_dl, test_dl\n",
    "\n",
    "\n",
    "load_data(\"data/MNIST/raw/mnist_dataset.csv\")\n"
   ]
  },
  {
   "cell_type": "markdown",
   "id": "3f070e70",
   "metadata": {},
   "source": [
    "### 3.1.4  Visualising image data\n",
    "We can now extend our visualisation function to be a bit fancier and take in a batch of images to display. "
   ]
  },
  {
   "cell_type": "code",
   "execution_count": 20,
   "id": "a1815cf1",
   "metadata": {},
   "outputs": [],
   "source": [
    "def image_grid(batch, ncols=4):\n",
    "    height, width = batch[0].shape\n",
    "    nrows = len(batch)//ncols # calculate the number of rows based on the number of columns needed by the user\n",
    "    \n",
    "    img_grid = (batch.reshape(nrows, ncols, height, width)\n",
    "              .swapaxes(1,2)\n",
    "              .reshape(height*nrows, width*ncols))\n",
    "    \n",
    "    return img_grid\n",
    "\n",
    "\n",
    "def show_batch(batch, title=\"Image batch\", cols=4):\n",
    "    print('test')\n",
    "    N = len(batch)\n",
    "    if N > cols:\n",
    "        assert N % cols == 0, \"Number of cols must be a multiple of N\"\n",
    "    \n",
    "    result = image_grid(batch)\n",
    "    fig = plt.figure(figsize=(5., 5.))\n",
    "    plt.suptitle(f\"{title} [{int(N/cols)}x{cols}]\")\n",
    "    plt.imshow(result, cmap='gray')\n",
    "\n",
    "\n"
   ]
  },
  {
   "cell_type": "code",
   "execution_count": null,
   "id": "2e5c9a5b",
   "metadata": {},
   "outputs": [],
   "source": [
    "# defining global path variables\n",
    "MODEL_DIR = \"./saved_models\"\n",
    "DATASET_PREFIX = \"./data/MNIST\"\n",
    "DATA_PATH = f\"{DATASET_PREFIX}/raw/mnist_dataset.csv\"\n",
    "\n",
    "# Load the train, validation and test sets. Get a batch of 16 images for each set.\n",
    "train_dl, val_dl, test_dl = load_data(DATA_PATH)\n",
    "train_images, _ = next(iter(train_dl))\n",
    "test_images, _ = next(iter(test_dl))\n",
    "val_images, _ = next(iter(val_dl))\n",
    "print('test')\n",
    "# Display the batches using the previously defined `show_batch` function\n",
    "# Show train batch with title \"Train images\"\n",
    "# show_batch(train_images)\n",
    "# Show validation batch with title \"Val images\"\n",
    "# show_batch(test_images)\n",
    "# Show test batch with title \"Test images\"\n",
    "# show_batch(val_images)"
   ]
  },
  {
   "cell_type": "code",
   "execution_count": null,
   "id": "eaf4827e",
   "metadata": {},
   "outputs": [],
   "source": []
  },
  {
   "cell_type": "code",
   "execution_count": null,
   "id": "74af43ee",
   "metadata": {},
   "outputs": [],
   "source": []
  }
 ],
 "metadata": {
  "kernelspec": {
   "display_name": "Python 3 (ipykernel)",
   "language": "python",
   "name": "python3"
  },
  "language_info": {
   "codemirror_mode": {
    "name": "ipython",
    "version": 3
   },
   "file_extension": ".py",
   "mimetype": "text/x-python",
   "name": "python",
   "nbconvert_exporter": "python",
   "pygments_lexer": "ipython3",
   "version": "3.10.6"
  }
 },
 "nbformat": 4,
 "nbformat_minor": 5
}
